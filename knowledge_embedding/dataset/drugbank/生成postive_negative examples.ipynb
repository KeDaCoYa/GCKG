{
 "cells": [
  {
   "cell_type": "markdown",
   "metadata": {
    "collapsed": true,
    "pycharm": {
     "name": "#%% md\n"
    }
   },
   "source": [
    "这个是用于生成negative example和positive example\n",
    "\n",
    "用于训练判别模型"
   ]
  },
  {
   "cell_type": "code",
   "execution_count": 10,
   "metadata": {},
   "outputs": [],
   "source": [
    "from tqdm import tqdm\n",
    "import random"
   ]
  },
  {
   "cell_type": "code",
   "execution_count": 2,
   "metadata": {
    "collapsed": false,
    "pycharm": {
     "name": "#%%\n"
    }
   },
   "outputs": [
    {
     "name": "stdout",
     "output_type": "stream",
     "text": [
      "/root/code/bioner/KnowledgeEmbedding\n"
     ]
    }
   ],
   "source": [
    "%cd ../../"
   ]
  },
  {
   "cell_type": "code",
   "execution_count": 7,
   "metadata": {
    "collapsed": false,
    "pycharm": {
     "name": "#%%\n"
    }
   },
   "outputs": [
    {
     "name": "stderr",
     "output_type": "stream",
     "text": [
      "读取:./dataset/drugbank/train.tsv文件: 17125it [00:00, 541472.85it/s]\n",
      "读取:./dataset/drugbank/dev.tsv文件: 1903it [00:00, 591679.80it/s]\n"
     ]
    }
   ],
   "source": [
    "from src.utils.dataset_utils import KGProcessor\n",
    "\n",
    "processor = KGProcessor()\n",
    "data_dir = \"./dataset/drugbank\"\n",
    "\n",
    "\n",
    "train_triples = processor.get_train_triples(\"./dataset/drugbank\")\n",
    "dev_triples = processor.get_dev_triples(\"./dataset/drugbank\")"
   ]
  },
  {
   "cell_type": "code",
   "execution_count": 12,
   "metadata": {
    "collapsed": false,
    "pycharm": {
     "name": "#%%\n"
    }
   },
   "outputs": [],
   "source": [
    "entity_list = processor.get_entities(data_dir)\n",
    "all_triples = train_triples + dev_triples\n",
    "all_triples_str_set = set()\n",
    "drug_entites_set = set()\n",
    "target_entites_set = set()\n",
    "for triple in all_triples:\n",
    "    triple_str = '\\t'.join(triple)\n",
    "    drug_entites_set.add(triple[0])\n",
    "    target_entites_set.add(triple[-1])\n",
    "    all_triples_str_set.add(triple_str)"
   ]
  },
  {
   "cell_type": "code",
   "execution_count": 13,
   "metadata": {},
   "outputs": [],
   "source": [
    "drug_entites_li = list(drug_entites_set)\n",
    "target_entities_li = list(target_entites_set)"
   ]
  },
  {
   "cell_type": "code",
   "execution_count": 14,
   "metadata": {
    "collapsed": false,
    "pycharm": {
     "name": "#%%\n"
    }
   },
   "outputs": [
    {
     "name": "stderr",
     "output_type": "stream",
     "text": [
      "100%|██████████| 17125/17125 [00:00<00:00, 83985.34it/s]\n"
     ]
    }
   ],
   "source": [
    "train_positive_examples = []\n",
    "train_negative_examples = []\n",
    "for triple in tqdm(train_triples, total=len(train_triples)):\n",
    "    head = triple[0].lower()\n",
    "    relation = triple[1].lower()\n",
    "    tail = triple[2].lower()\n",
    "    # print(test_triple, head, relation, tail)\n",
    "    # 给这里面加一个正确的triple\n",
    "    train_positive_examples.append([head,relation,tail,1])\n",
    "    if random.random()>0.5:\n",
    "        corrupt_ent = random.choice(drug_entites_li)\n",
    "        tmp_triple = [corrupt_ent, relation, tail]\n",
    "        tmp_triple_str = '\\t'.join(tmp_triple)\n",
    "        if tmp_triple_str not in all_triples_str_set:\n",
    "            # may be slow\n",
    "            train_negative_examples.append([corrupt_ent, relation, tail,0])\n",
    "    else:\n",
    "        corrupt_ent = random.choice(target_entities_li)\n",
    "        tmp_triple = [head, relation, corrupt_ent]\n",
    "        tmp_triple_str = '\\t'.join(tmp_triple)\n",
    "        if tmp_triple_str not in all_triples_str_set:\n",
    "            # may be slow\n",
    "            train_negative_examples.append([head, relation, corrupt_ent,0])\n"
   ]
  },
  {
   "cell_type": "code",
   "execution_count": 15,
   "metadata": {
    "collapsed": false,
    "pycharm": {
     "name": "#%%\n"
    }
   },
   "outputs": [
    {
     "name": "stderr",
     "output_type": "stream",
     "text": [
      "100%|██████████| 1903/1903 [00:00<00:00, 126108.11it/s]\n"
     ]
    }
   ],
   "source": [
    "dev_positive_examples = []\n",
    "dev_negative_examples = []\n",
    "for triple in tqdm(dev_triples, total=len(dev_triples)):\n",
    "    head = triple[0].lower()\n",
    "    relation = triple[1].lower()\n",
    "    tail = triple[2].lower()\n",
    "    # print(test_triple, head, relation, tail)\n",
    "    # 给这里面加一个正确的triple\n",
    "    dev_positive_examples.append([head,relation,tail,1])\n",
    "    if random.random()>0.5:\n",
    "        corrupt_ent = random.choice(drug_entites_li)\n",
    "        tmp_triple = [corrupt_ent, relation, tail]\n",
    "        tmp_triple_str = '\\t'.join(tmp_triple)\n",
    "        if tmp_triple_str not in all_triples_str_set:\n",
    "            # may be slow\n",
    "            dev_negative_examples.append([corrupt_ent, relation, tail,0])\n",
    "    else:\n",
    "        corrupt_ent = random.choice(target_entities_li)\n",
    "        tmp_triple = [head, relation, corrupt_ent]\n",
    "        tmp_triple_str = '\\t'.join(tmp_triple)\n",
    "        if tmp_triple_str not in all_triples_str_set:\n",
    "            # may be slow\n",
    "            dev_negative_examples.append([head, relation, corrupt_ent,0])\n"
   ]
  },
  {
   "cell_type": "code",
   "execution_count": 18,
   "metadata": {
    "collapsed": false,
    "pycharm": {
     "name": "#%%\n"
    }
   },
   "outputs": [
    {
     "data": {
      "text/plain": [
       "['GSK-364735', 'target', 'c-x-c chemokine receptor type 4', 0]"
      ]
     },
     "execution_count": 18,
     "metadata": {},
     "output_type": "execute_result"
    }
   ],
   "source": [
    "dev_negative_examples[0]"
   ]
  },
  {
   "cell_type": "code",
   "execution_count": 19,
   "metadata": {
    "collapsed": false,
    "pycharm": {
     "name": "#%%\n"
    }
   },
   "outputs": [],
   "source": [
    "train_examples = []\n",
    "dev_examples = []\n",
    "train_examples.extend(train_positive_examples)\n",
    "train_examples.extend(train_negative_examples)\n",
    "\n",
    "dev_examples.extend(dev_positive_examples)\n",
    "dev_examples.extend(dev_negative_examples)"
   ]
  },
  {
   "cell_type": "code",
   "execution_count": 21,
   "metadata": {
    "collapsed": false,
    "pycharm": {
     "name": "#%%\n"
    }
   },
   "outputs": [],
   "source": [
    "import pickle\n",
    "with open(\"train_examples.pk\",'wb') as f:\n",
    "    pickle.dump(train_examples,f)"
   ]
  },
  {
   "cell_type": "code",
   "execution_count": 22,
   "metadata": {
    "collapsed": false,
    "pycharm": {
     "name": "#%%\n"
    }
   },
   "outputs": [],
   "source": [
    "import pickle\n",
    "with open(\"dev_examples.pk\",'wb') as f:\n",
    "    pickle.dump(dev_examples,f)"
   ]
  },
  {
   "cell_type": "code",
   "execution_count": 23,
   "metadata": {
    "collapsed": false,
    "pycharm": {
     "name": "#%%\n"
    }
   },
   "outputs": [
    {
     "name": "stdout",
     "output_type": "stream",
     "text": [
      "/root/code/bioner/KnowledgeEmbedding\n"
     ]
    }
   ],
   "source": [
    "!pwd"
   ]
  },
  {
   "cell_type": "code",
   "execution_count": null,
   "metadata": {
    "collapsed": false,
    "pycharm": {
     "name": "#%%\n"
    }
   },
   "outputs": [],
   "source": []
  }
 ],
 "metadata": {
  "kernelspec": {
   "display_name": "Python 3",
   "language": "python",
   "name": "python3"
  },
  "language_info": {
   "codemirror_mode": {
    "name": "ipython",
    "version": 3
   },
   "file_extension": ".py",
   "mimetype": "text/x-python",
   "name": "python",
   "nbconvert_exporter": "python",
   "pygments_lexer": "ipython3",
   "version": "3.6.13"
  }
 },
 "nbformat": 4,
 "nbformat_minor": 0
}